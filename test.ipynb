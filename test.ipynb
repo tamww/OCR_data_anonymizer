{
 "cells": [
  {
   "cell_type": "code",
   "execution_count": 6,
   "metadata": {},
   "outputs": [],
   "source": [
    "import fitz\n",
    "from pyhanlp import HanLP"
   ]
  },
  {
   "cell_type": "code",
   "execution_count": 15,
   "metadata": {},
   "outputs": [],
   "source": [
    "import re"
   ]
  },
  {
   "cell_type": "code",
   "execution_count": 148,
   "metadata": {},
   "outputs": [],
   "source": [
    "pdf_path = './1.pdf'\n",
    "doc = fitz.open(pdf_path)"
   ]
  },
  {
   "cell_type": "code",
   "execution_count": 149,
   "metadata": {
    "scrolled": true
   },
   "outputs": [],
   "source": [
    "doc_text = \"\""
   ]
  },
  {
   "cell_type": "code",
   "execution_count": 150,
   "metadata": {},
   "outputs": [],
   "source": [
    "for page in doc:\n",
    "    text = page.get_text()\n",
    "    doc_text += text"
   ]
  },
  {
   "cell_type": "code",
   "execution_count": 155,
   "metadata": {},
   "outputs": [
    {
     "data": {
      "text/plain": [
       "'    丁小姐 9888 8888 xyz@abc.com 01/12/2012 31/12/2012   0 0  0 0 0 0  1  2  3   4 甲乙丙公司 5 6 7 8 李積金 A123456 (7) 01/11/2012   30/11/2012 01/12/2012   31/12/2012 -          - 01/12/2012   31/12/2012 10,000 10,000 500 500 0 500 1,000 500 01/11/2012 1,500    2         陳大文 何小明 Z987654(3)X112233(0)4,000 0  200 0 0 0 200 0  15/12/2012123456 \\uf050200  1,700 10/01/2013                           4  僱主授權簽署公司印章4 3                      1   1 ABC Company Ms. Ding 9888 8888  xyz@abc.com 01/12/2012 31/12/2012    0 0  0 0 0 0  1  2  3   4 5 6 7 8 Lee Chek Kam A123456 (7) 01/11/2012   30/11/2012 01/12/2012   31/12/2012 -          - 01/12/2012   31/12/2012 10,000 10,000 500 500 0 500 1,000 500 01/11/2012 1,500                          Part II  2          Chan Tai Man Ho Siu Ming Z987654(3)X112233(0)4,000 0  200 0 0 0 200 0  15/12/2012123456 \\uf050200  1,700 10/01/2013                           Part III                                                                                             3 For e4 4 3 '"
      ]
     },
     "execution_count": 155,
     "metadata": {},
     "output_type": "execute_result"
    }
   ],
   "source": [
    "doc_text.replace(\"\\n\", \"\")"
   ]
  },
  {
   "cell_type": "code",
   "execution_count": 156,
   "metadata": {},
   "outputs": [],
   "source": [
    "segment = HanLP.newSegment().enableNameRecognize(True);"
   ]
  },
  {
   "cell_type": "code",
   "execution_count": 125,
   "metadata": {
    "scrolled": true
   },
   "outputs": [
    {
     "name": "stdout",
     "output_type": "stream",
     "text": [
      "丁小姐/nr\n",
      "甲乙/nz\n",
      "陳大文/nr\n",
      "小明/nz\n"
     ]
    }
   ],
   "source": [
    "for page in doc:\n",
    "    text = page.get_text().encode(\"utf8\")\n",
    "    result = segment.seg(text)\n",
    "    for term in result:\n",
    "        if re.search(r'/nr|/nz', str(term)):\n",
    "            print(str(term))\n",
    "#     print(result)"
   ]
  },
  {
   "cell_type": "code",
   "execution_count": 103,
   "metadata": {},
   "outputs": [],
   "source": [
    "from LAC import LAC\n",
    "lac = LAC(mode=\"lac\")\n",
    "from ltp import LTP\n",
    "ltp = LTP(\"LTP/small\")  # 默认加载 Small 模型\n"
   ]
  },
  {
   "cell_type": "code",
   "execution_count": 104,
   "metadata": {},
   "outputs": [],
   "source": [
    "def extract_name(sentence: str, type='lac'):\n",
    "    user_name_lis = []\n",
    "    if type == 'lac':\n",
    "        _result = lac.run(sentence)\n",
    "        for _index, _label in enumerate(_result[1]):\n",
    "            if _label == \"PER\":\n",
    "                user_name_lis.append(_result[0][_index])\n",
    "    elif type == 'ltp':\n",
    "        output = ltp.pipeline([sentence], tasks=[\"cws\", \"pos\", \"ner\", \"srl\", \"dep\", \"sdp\"])\n",
    "        # 使用字典格式作为返回结果\n",
    "        print(output.cws)  # print(output[0]) / print(output['cws']) # 也可以使用下标访问\n",
    "        print(output.pos)\n",
    "        print(output.sdp)\n",
    "#         kk = ltp.pipeline([sentence[0]], tasks=[\"cws\", \"pos\", \"ner\", \"srl\", \"dep\", \"sdp\"])\n",
    "#         print(kk)\n",
    "#         _seg, _hidden = ltp.seg([sentence])\n",
    "#         _pos_hidden = ltp.pos(_hidden)\n",
    "#         for _seg_i, _seg_v in enumerate(_seg):\n",
    "#             _hidden_v = _pos_hidden[_seg_i]\n",
    "#             for _h_i, _h_v in enumerate(_hidden_v):\n",
    "#                 if _h_v == \"nh\":\n",
    "#                     user_name_lis.append(_seg_v[_h_i])\n",
    "\n",
    "    else:\n",
    "        raise Exception('type not suppose')\n",
    "    return user_name_lis"
   ]
  },
  {
   "cell_type": "code",
   "execution_count": 102,
   "metadata": {},
   "outputs": [
    {
     "name": "stdout",
     "output_type": "stream",
     "text": [
      "['丁小姐']\n",
      "['陳大文']\n",
      "['何小明']\n"
     ]
    }
   ],
   "source": [
    "for page in doc:\n",
    "    text = page.get_text()\n",
    "    for tt in text.split('\\n'):\n",
    "        result = extract_name(tt)\n",
    "        if(result):\n",
    "            print(result)"
   ]
  },
  {
   "cell_type": "code",
   "execution_count": 128,
   "metadata": {},
   "outputs": [
    {
     "name": "stderr",
     "output_type": "stream",
     "text": [
      "<>:4: DeprecationWarning: invalid escape sequence \\|\n",
      "<>:4: DeprecationWarning: invalid escape sequence \\|\n",
      "<>:4: DeprecationWarning: invalid escape sequence \\|\n",
      "G:\\TMPTMP/ipykernel_10696/4070780464.py:4: DeprecationWarning: invalid escape sequence \\|\n",
      "  temp = tt.replace(\" \",\"\").replace(\"!@#$%^&*()[]{};:,./<>?\\|`~-=_+\", \"\")\n"
     ]
    },
    {
     "ename": "TypeError",
     "evalue": "a bytes-like object is required, not 'str'",
     "output_type": "error",
     "traceback": [
      "\u001b[1;31m---------------------------------------------------------------------------\u001b[0m",
      "\u001b[1;31mTypeError\u001b[0m                                 Traceback (most recent call last)",
      "\u001b[1;32mG:\\TMPTMP/ipykernel_10696/4070780464.py\u001b[0m in \u001b[0;36m<module>\u001b[1;34m\u001b[0m\n\u001b[0;32m      1\u001b[0m \u001b[1;32mfor\u001b[0m \u001b[0mpage\u001b[0m \u001b[1;32min\u001b[0m \u001b[0mdoc\u001b[0m\u001b[1;33m:\u001b[0m\u001b[1;33m\u001b[0m\u001b[1;33m\u001b[0m\u001b[0m\n\u001b[0;32m      2\u001b[0m     \u001b[0mtext\u001b[0m \u001b[1;33m=\u001b[0m \u001b[0mpage\u001b[0m\u001b[1;33m.\u001b[0m\u001b[0mget_text\u001b[0m\u001b[1;33m(\u001b[0m\u001b[1;33m)\u001b[0m\u001b[1;33m.\u001b[0m\u001b[0mencode\u001b[0m\u001b[1;33m(\u001b[0m\u001b[1;34m'ascii'\u001b[0m\u001b[1;33m,\u001b[0m \u001b[1;34m'ignore'\u001b[0m\u001b[1;33m)\u001b[0m\u001b[1;33m\u001b[0m\u001b[1;33m\u001b[0m\u001b[0m\n\u001b[1;32m----> 3\u001b[1;33m     \u001b[1;32mfor\u001b[0m \u001b[0mtt\u001b[0m \u001b[1;32min\u001b[0m \u001b[0mtext\u001b[0m\u001b[1;33m.\u001b[0m\u001b[0msplit\u001b[0m\u001b[1;33m(\u001b[0m\u001b[1;34m'\\n'\u001b[0m\u001b[1;33m)\u001b[0m\u001b[1;33m:\u001b[0m\u001b[1;33m\u001b[0m\u001b[1;33m\u001b[0m\u001b[0m\n\u001b[0m\u001b[0;32m      4\u001b[0m         \u001b[0mtemp\u001b[0m \u001b[1;33m=\u001b[0m \u001b[0mtt\u001b[0m\u001b[1;33m.\u001b[0m\u001b[0mreplace\u001b[0m\u001b[1;33m(\u001b[0m\u001b[1;34m\" \"\u001b[0m\u001b[1;33m,\u001b[0m\u001b[1;34m\"\"\u001b[0m\u001b[1;33m)\u001b[0m\u001b[1;33m.\u001b[0m\u001b[0mreplace\u001b[0m\u001b[1;33m(\u001b[0m\u001b[1;34m\"!@#$%^&*()[]{};:,./<>?\\|`~-=_+\"\u001b[0m\u001b[1;33m,\u001b[0m \u001b[1;34m\"\"\u001b[0m\u001b[1;33m)\u001b[0m\u001b[1;33m\u001b[0m\u001b[1;33m\u001b[0m\u001b[0m\n\u001b[0;32m      5\u001b[0m         \u001b[0mprint\u001b[0m\u001b[1;33m(\u001b[0m\u001b[0mtemp\u001b[0m\u001b[1;33m)\u001b[0m\u001b[1;33m\u001b[0m\u001b[1;33m\u001b[0m\u001b[0m\n",
      "\u001b[1;31mTypeError\u001b[0m: a bytes-like object is required, not 'str'"
     ]
    }
   ],
   "source": [
    "for page in doc:\n",
    "    text = page.get_text().encode('ascii', 'ignore')\n",
    "    for tt in text.split('\\n'):\n",
    "        temp = tt.replace(\" \",\"\").replace(\"!@#$%^&*()[]{};:,./<>?\\|`~-=_+\", \"\")\n",
    "        print(temp)\n",
    "        if(len(temp)>0):\n",
    "            print(tt)\n",
    "            result = extract_name(tt,'ltp')\n",
    "            if(len(result)>0):\n",
    "                print(result)"
   ]
  },
  {
   "cell_type": "code",
   "execution_count": null,
   "metadata": {},
   "outputs": [],
   "source": []
  },
  {
   "cell_type": "code",
   "execution_count": null,
   "metadata": {},
   "outputs": [],
   "source": []
  }
 ],
 "metadata": {
  "kernelspec": {
   "display_name": "Python 3 (ipykernel)",
   "language": "python",
   "name": "python3"
  },
  "language_info": {
   "codemirror_mode": {
    "name": "ipython",
    "version": 3
   },
   "file_extension": ".py",
   "mimetype": "text/x-python",
   "name": "python",
   "nbconvert_exporter": "python",
   "pygments_lexer": "ipython3",
   "version": "3.7.12"
  }
 },
 "nbformat": 4,
 "nbformat_minor": 2
}
