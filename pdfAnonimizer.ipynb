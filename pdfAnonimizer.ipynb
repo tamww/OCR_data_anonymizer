{
 "cells": [
  {
   "cell_type": "code",
   "execution_count": 1,
   "id": "98be1fb4",
   "metadata": {},
   "outputs": [],
   "source": [
    "import random, string, math, re, os\n",
    "import fitz\n",
    "# from pyhanlp import HanLP\n",
    "from faker import Faker"
   ]
  },
  {
   "cell_type": "code",
   "execution_count": 2,
   "id": "e7401156",
   "metadata": {},
   "outputs": [],
   "source": [
    "import cv2\n",
    "import matplotlib.pyplot as plt"
   ]
  },
  {
   "cell_type": "code",
   "execution_count": 4,
   "id": "3f433958",
   "metadata": {},
   "outputs": [],
   "source": [
    "import numpy as np"
   ]
  },
  {
   "cell_type": "code",
   "execution_count": 6,
   "id": "1a2163a1",
   "metadata": {},
   "outputs": [],
   "source": [
    "import pytesseract \n",
    "from PIL import Image, ImageDraw, ImageSequence, ImageFont\n",
    "# import en_core_web_lg"
   ]
  },
  {
   "cell_type": "code",
   "execution_count": 7,
   "id": "d19890f3",
   "metadata": {},
   "outputs": [
    {
     "name": "stderr",
     "output_type": "stream",
     "text": [
      "[nltk_data] Downloading package punkt to C:\\Users\\jacky\n",
      "[nltk_data]     tam\\AppData\\Roaming\\nltk_data...\n",
      "[nltk_data]   Package punkt is already up-to-date!\n",
      "[nltk_data] Downloading package averaged_perceptron_tagger to\n",
      "[nltk_data]     C:\\Users\\jacky tam\\AppData\\Roaming\\nltk_data...\n",
      "[nltk_data]   Package averaged_perceptron_tagger is already up-to-\n",
      "[nltk_data]       date!\n",
      "[nltk_data] Downloading package maxent_ne_chunker to C:\\Users\\jacky\n",
      "[nltk_data]     tam\\AppData\\Roaming\\nltk_data...\n",
      "[nltk_data]   Package maxent_ne_chunker is already up-to-date!\n",
      "[nltk_data] Downloading package words to C:\\Users\\jacky\n",
      "[nltk_data]     tam\\AppData\\Roaming\\nltk_data...\n",
      "[nltk_data]   Package words is already up-to-date!\n"
     ]
    },
    {
     "data": {
      "text/plain": [
       "True"
      ]
     },
     "execution_count": 7,
     "metadata": {},
     "output_type": "execute_result"
    }
   ],
   "source": [
    "import nltk\n",
    "nltk.download('punkt')\n",
    "nltk.download('averaged_perceptron_tagger')\n",
    "nltk.download('maxent_ne_chunker')\n",
    "nltk.download('words')"
   ]
  },
  {
   "cell_type": "code",
   "execution_count": 8,
   "id": "22870837",
   "metadata": {},
   "outputs": [],
   "source": [
    "from nltk import ne_chunk, pos_tag, word_tokenize\n",
    "from nltk.tree import Tree"
   ]
  },
  {
   "cell_type": "markdown",
   "id": "47ba928c",
   "metadata": {},
   "source": [
    "## Basic Setting"
   ]
  },
  {
   "cell_type": "code",
   "execution_count": 9,
   "id": "80878e2e",
   "metadata": {},
   "outputs": [],
   "source": [
    "doc_text = []\n",
    "fake = Faker(\"zh_tw\")\n",
    "doc = ''\n",
    "colorList = fitz.utils.getColorList()\n",
    "font_language = {1:'zh', 2:'en'}"
   ]
  },
  {
   "cell_type": "markdown",
   "id": "e69fca9f",
   "metadata": {},
   "source": [
    "#### Read file"
   ]
  },
  {
   "cell_type": "code",
   "execution_count": 10,
   "id": "662b8c37",
   "metadata": {},
   "outputs": [],
   "source": [
    "def readFile(path):\n",
    "    global doc, doc_text\n",
    "    pdf_path = path\n",
    "    doc = fitz.open(pdf_path)\n",
    "    for page in doc:\n",
    "        text = page.get_text()\n",
    "        doc_text.append(text)\n",
    "    return doc_text"
   ]
  },
  {
   "cell_type": "markdown",
   "id": "ec96bd36",
   "metadata": {},
   "source": [
    "#### Fake Name Generator"
   ]
  },
  {
   "cell_type": "code",
   "execution_count": 11,
   "id": "34918fba",
   "metadata": {},
   "outputs": [],
   "source": [
    "def conditional_fake(cond):\n",
    "    while True:\n",
    "        x = fake.name()\n",
    "        if cond(x):\n",
    "            yield x"
   ]
  },
  {
   "cell_type": "markdown",
   "id": "be6e4acb",
   "metadata": {},
   "source": [
    "## Chinese Parser"
   ]
  },
  {
   "cell_type": "markdown",
   "id": "df484b01",
   "metadata": {},
   "source": [
    "#### LAC"
   ]
  },
  {
   "cell_type": "code",
   "execution_count": 12,
   "id": "6d18e833",
   "metadata": {},
   "outputs": [],
   "source": [
    "from LAC import LAC\n",
    "lac = LAC(mode=\"lac\")    "
   ]
  },
  {
   "cell_type": "code",
   "execution_count": 13,
   "id": "5d0ff6c0",
   "metadata": {},
   "outputs": [],
   "source": [
    "def extract_LAC(sentence):\n",
    "    user_name_lis = []\n",
    "    _result = lac.run(sentence)\n",
    "    print(_result)\n",
    "    for _index, _label in enumerate(_result[1]):\n",
    "        if _label == \"PER\":\n",
    "            user_name_lis.append(_result[0][_index])\n",
    "    return user_name_lis"
   ]
  },
  {
   "cell_type": "markdown",
   "id": "baccbde2",
   "metadata": {},
   "source": [
    "#### LTP"
   ]
  },
  {
   "cell_type": "code",
   "execution_count": 14,
   "id": "1c2b3a34",
   "metadata": {},
   "outputs": [
    {
     "name": "stderr",
     "output_type": "stream",
     "text": [
      "G:\\Anaconda\\main\\envs\\data_masking\\lib\\site-packages\\tqdm\\auto.py:21: TqdmWarning: IProgress not found. Please update jupyter and ipywidgets. See https://ipywidgets.readthedocs.io/en/stable/user_install.html\n",
      "  from .autonotebook import tqdm as notebook_tqdm\n"
     ]
    }
   ],
   "source": [
    "from ltp import LTP\n",
    "ltp = LTP(\"LTP/small\")  # 默认加载 Small 模型"
   ]
  },
  {
   "cell_type": "code",
   "execution_count": 15,
   "id": "bf50b912",
   "metadata": {},
   "outputs": [],
   "source": [
    "def extract_LTP(sentence):\n",
    "    user_name_list = []\n",
    "    try:\n",
    "        output = ltp.pipeline([sentence], tasks=[\"cws\", \"pos\", \"ner\", \"srl\", \"dep\", \"sdp\"])\n",
    "        # 使用字典格式作为返回结果\n",
    "#         print(output.cws)  # print(output[0]) / print(output['cws']) # 也可以使用下标访问\n",
    "#         print(output.pos)\n",
    "#         print(output.sdp)\n",
    "        pos_length = len(output.pos[0])\n",
    "        i = 0\n",
    "        while i < pos_length:\n",
    "            if(pos_length - i)>=3:\n",
    "                temp = '-'.join(output.pos[0][i:i+3])\n",
    "                # search for pattern 'nh', 'nh', 'n'\n",
    "                if(temp=='nh-nh-n' or temp=='o-nh-ws'):\n",
    "                    user_name_list.append(''.join(output.cws[0][i:i+3]))\n",
    "                    i += 3\n",
    "                    continue\n",
    "\n",
    "            if(pos_length - i)>=2:\n",
    "                temp = '-'.join(output.pos[0][i:i+2])\n",
    "\n",
    "                if(temp=='nh-nh'):\n",
    "                    # search for pattern nh + nh \n",
    "                    user_name_list.append(''.join(output.cws[0][i:i+2]))\n",
    "                    i += 2\n",
    "                    continue\n",
    "\n",
    "                elif(temp=='nh-n'):\n",
    "                    # search for pattern nh + n\n",
    "                    user_name_list.append(''.join(output.cws[0][i:i+2]))\n",
    "                    i += 2\n",
    "                    continue\n",
    "            # search for pattern nh\n",
    "            if(output.pos[0][i] == 'nh'):\n",
    "                user_name_list.append(output.cws[0][i])\n",
    "            i += 1\n",
    "    except Exception as e:\n",
    "        print(text, e)\n",
    "    finally:\n",
    "        return user_name_list\n",
    "\n",
    "#         elif type == 'ltp':\n",
    "#             output = ltp.pipeline([sentence], tasks=[\"cws\", \"pos\", \"ner\", \"srl\", \"dep\", \"sdp\"])\n",
    "#             # 使用字典格式作为返回结果\n",
    "#             print(output.cws)  # print(output[0]) / print(output['cws']) # 也可以使用下标访问\n",
    "#             print(output.pos)\n",
    "#             print(output.sdp)\n",
    "#             print(\" \")\n",
    "#             for i in range(len(output.pos)):\n",
    "#                 if(output.pos[i] == 'nh'):\n",
    "#                     user_name_lis.append(output.cws[i])\n",
    "#     #  1.   2.   3. \n",
    "    # [['丁', '小姐']]\n",
    "    # [['nh', 'n']]\n",
    "    # [{'head': [2, 0], 'label': ['FEAT', 'Root']}]\n",
    "    # [['陳大文']]\n",
    "    # [['nh']]\n",
    "    # [{'head': [0], 'label': ['Root']}]"
   ]
  },
  {
   "cell_type": "markdown",
   "id": "5a21df80",
   "metadata": {},
   "source": [
    "#### JIEBA"
   ]
  },
  {
   "cell_type": "code",
   "execution_count": 16,
   "id": "234d28e5",
   "metadata": {},
   "outputs": [],
   "source": [
    "import jieba\n",
    "import jieba.posseg as pseg"
   ]
  },
  {
   "cell_type": "code",
   "execution_count": 17,
   "id": "d94d9f41",
   "metadata": {},
   "outputs": [],
   "source": [
    "def extract_jieba(text):\n",
    "#     words = pseg.cut(text) #jieba默认模式\n",
    "    # jieba.enable_paddle() #启动paddle模式。 0.40版之后开始支持，早期版本不支持\n",
    "#     words = pseg.cut(text,use_paddle=True) #paddle模式\n",
    "#     for word, flag in words:\n",
    "#         print('%s %s' % (word, flag))\n",
    "    per_list = []  # 人名列表\n",
    "    word_list = jieba.lcut(text)\n",
    "#     print(word_list)\n",
    "    for word in word_list:\n",
    "        if len(word)==1:  # 不加判断会爆\n",
    "            continue\n",
    "        words = pseg.cut(word, use_paddle=True)  # paddle模式\n",
    "#         print(list(words))\n",
    "        word, flag = list(words)[0]\n",
    "        if flag=='PER':  # 这里写成LOC是地名\n",
    "            per_list.append(word)\n",
    "    per_list = list(set(per_list))\n",
    "#     print(per_list)\n",
    "    return per_list"
   ]
  },
  {
   "cell_type": "markdown",
   "id": "010e1ca7",
   "metadata": {},
   "source": [
    "#### Extraction Model Handler"
   ]
  },
  {
   "cell_type": "code",
   "execution_count": 18,
   "id": "55bcef0d",
   "metadata": {},
   "outputs": [],
   "source": [
    "def extract_name(sentence: str, type='lac'):\n",
    "    user_name_lis = []\n",
    "#     print(sentence)\n",
    "    try:\n",
    "        if type == 'lac':\n",
    "            lacResult = extract_LAC(sentence)\n",
    "            if len(lacResult)==0:\n",
    "                ltpResult = extract_LTP(sentence)\n",
    "                user_name_lis.extend(ltpResult)\n",
    "            user_name_lis.extend(lacResult)\n",
    "        elif type == 'ltp':\n",
    "            ltpResult = extract_LTP(sentence)\n",
    "            user_name_lis.extend(ltpResult)\n",
    "        elif type == 'jieba':\n",
    "            jiebaResult = extract_jieba(sentence)\n",
    "            user_name_lis.extend(jiebaResult)\n",
    "        else:\n",
    "            raise Exception('type not suppose')\n",
    "        return user_name_lis\n",
    "    except Exception as e:\n",
    "        print(text, e)\n",
    "    finally:\n",
    "        return user_name_lis"
   ]
  },
  {
   "cell_type": "code",
   "execution_count": 19,
   "id": "dbc86269",
   "metadata": {},
   "outputs": [],
   "source": [
    "def searchNameMatch(_text, opt='lac'):\n",
    "    nameExtracted = extract_name(_text,opt)\n",
    "    return nameExtracted"
   ]
  },
  {
   "cell_type": "markdown",
   "id": "561d4c52",
   "metadata": {},
   "source": [
    "#### Find Word Distance (to find font file)"
   ]
  },
  {
   "cell_type": "code",
   "execution_count": 20,
   "id": "0e3eee19",
   "metadata": {},
   "outputs": [],
   "source": [
    "# find word distance\n",
    "import Levenshtein\n",
    "\n",
    "def getFontPath(font_name, lang = 'zh'):\n",
    "    base_path = 'c:/windows/fonts'\n",
    "    end_path = ''\n",
    "    fileName_search = font_name.lower()\n",
    "    fileNames = []\n",
    "    for fileName in os.listdir(base_path):\n",
    "        fileName_inList = fileName.replace(\" \",\"\").replace(r'_-',\"\").lower().split('.')\n",
    "        # print(fileName_inList)\n",
    "        if((Levenshtein.distance(fileName_search, fileName_inList[0])<5 \n",
    "            or (fileName_inList[0] in fileName_search))):\n",
    "#            and fileName_inList[1]=='ttf'):\n",
    "            fileNames.append(fileName)\n",
    "    if(len(fileNames)>0):\n",
    "        base_path = base_path+'/'+fileNames[0]\n",
    "    else:\n",
    "        if not (lang=='zh'):\n",
    "            base_path +='/times.ttf'\n",
    "        else:\n",
    "            base_path +='/kaiu.ttf'\n",
    "    return base_path"
   ]
  },
  {
   "cell_type": "markdown",
   "id": "6bf049d8",
   "metadata": {},
   "source": [
    "## Search ID"
   ]
  },
  {
   "cell_type": "code",
   "execution_count": 21,
   "id": "4168a88f",
   "metadata": {},
   "outputs": [],
   "source": [
    "def searchIDMatch(_text):\n",
    "#     print(_text)\n",
    "#     reg = r\"([a-zA-Z][0-9]{6})\\s*\\(\\s*[0-9]\\s*\\)\"\n",
    "    reg = r\"[a-zA-Z]{0,1}[0-9]{6,7}\\s*\\([0-9]{0,1}\\){0,1}\"\n",
    "    trackID = re.findall(reg,_text)\n",
    "    if(trackID):\n",
    "        return(trackID)\n",
    "    return None"
   ]
  },
  {
   "cell_type": "code",
   "execution_count": 22,
   "id": "865e6583",
   "metadata": {},
   "outputs": [],
   "source": [
    "def id_generator(size=6, chars=string.ascii_uppercase + string.digits):\n",
    "    return ''.join(random.choice(chars) for _ in range(size))"
   ]
  },
  {
   "cell_type": "markdown",
   "id": "32a596d7",
   "metadata": {},
   "source": [
    "## Rewrite the text"
   ]
  },
  {
   "cell_type": "code",
   "execution_count": 37,
   "id": "1f0dee4e",
   "metadata": {},
   "outputs": [],
   "source": [
    "def rewriteName(name_tuple, _blockText, _page, imgflag = True, _imgConfig = None):\n",
    "    nameExtracted = name_tuple[0]\n",
    "    newName = name_tuple[1]\n",
    "    nameLang = name_tuple[2]\n",
    "\n",
    "#         if(nameExtracted):\n",
    "        # print(nameExtracted)\n",
    "        ##\n",
    "        # get text format\n",
    "#                 print(blockText)\n",
    "    fontSize, fontType, fontColor, fontdir = 1,'arial',0,(0,0),\n",
    "    text_loca = [[0,0,0,0]]\n",
    "    fontColorRGB = (0,0,0)\n",
    "    \n",
    "    if imgflag:\n",
    "        fontSize = _blockText['lines'][0]['spans'][0]['size']\n",
    "        fontType = _blockText['lines'][0]['spans'][0]['font']\n",
    "        fontColor = _blockText['lines'][0]['spans'][0]['color']\n",
    "        fontdir = _blockText['lines'][0]['dir']\n",
    "        text_loca = _page.search_for(nameExtracted)\n",
    "        fontColorRGB = fitz.utils.getColor(colorList[fontColor].lower())\n",
    "    else:\n",
    "        fontSize = _imgConfig[\"fontSize\"]\n",
    "        text_loca = _imgConfig[\"text_loca\"]\n",
    "        fontType = _imgConfig[\"fontType\"]if _imgConfig[\"fontType\"] != None else fontType\n",
    "        fontColor = _imgConfig[\"fontColor\"] if _imgConfig[\"fontColor\"] != None else fontColor\n",
    "        fontdir = _imgConfig[\"fontdir\"] if _imgConfig[\"fontdir\"] != None else fontdir\n",
    "        \n",
    "    \n",
    "    fontRotationDegree = math.atan2(fontdir[0], fontdir[1])*180/math.pi - _page.rotation\n",
    "    fontFilePath = getFontPath(fontType,font_language[nameLang])\n",
    "\n",
    "    print('---> Name Change')\n",
    "    print(f'{nameExtracted} -> {newName}')\n",
    "    print(f'Location: {text_loca[0]} | Font Size: {fontSize} | Font Type: {fontType} | Font Path: {fontFilePath}')\n",
    "    print(f'Color: {fontColor} -> {fontColorRGB} : {colorList[fontColor]} | Rotation: {fontdir} -> {fontRotationDegree} | Page Rotation: {_page.rotation}')\n",
    "    ##\n",
    "    # define font \n",
    "    _page.draw_rect(\n",
    "        text_loca[0],\n",
    "        color=(1,1,1),\n",
    "        fill=(1,1,1),\n",
    "        width=0\n",
    "    )\n",
    "    _page.insert_font(fontname=fontType,fontfile=fontFilePath, fontbuffer=newName , set_simple=False )\n",
    "    _page.insert_text(\n",
    "        fitz.Point(text_loca[0][2],text_loca[0][3]),\n",
    "        newName,\n",
    "        fontname=fontType,\n",
    "        fontsize=fontSize,\n",
    "        lineheight=1,\n",
    "#         color=(0.5,0.5,0),\n",
    "        color=fontColorRGB, \n",
    "        # fill=(1,1,1,1), \n",
    "        render_mode=0, \n",
    "        border_width=1, \n",
    "        rotate=fontRotationDegree, \n",
    "        morph=None, \n",
    "        overlay=True\n",
    "    )\n",
    "    _page.draw_rect(\n",
    "        text_loca[0],\n",
    "        color=(1,1,0.6),\n",
    "        fill=(1,1,0.6),\n",
    "        fill_opacity=0.5,\n",
    "        width=0\n",
    "    )\n",
    "    print(\" \")"
   ]
  },
  {
   "cell_type": "markdown",
   "id": "8af40739",
   "metadata": {},
   "source": [
    "## Process PDF "
   ]
  },
  {
   "cell_type": "code",
   "execution_count": 24,
   "id": "0d38b00b",
   "metadata": {},
   "outputs": [],
   "source": [
    "def process_pdf(_page,i):\n",
    "    textPage = _page.get_textpage().extractDICT()\n",
    "    for blockText in textPage['blocks']:\n",
    "#             text = blockText['lines'][0]['spans'][0]['text']\n",
    "        modifyList = []\n",
    "        for textLine in blockText['lines']:\n",
    "            for textSpan in textLine['spans']:\n",
    "                text = textSpan['text']\n",
    "\n",
    "                list_id_found = searchIDMatch(text)\n",
    "                if(list_id_found):\n",
    "                    for idd in list_id_found:\n",
    "                        randomID = id_generator(1,string.ascii_uppercase) + id_generator(6,string.digits) + \"(\"+id_generator(1,string.digits)+\")\"\n",
    "                        modifyList.append([idd, randomID,2])\n",
    "                #ltp\n",
    "                if(len(text)>0 and (text.count(\" \") != len(text))):\n",
    "#                         list_name_found = searchNameMatch(text,'ltp')\n",
    "#                         if(list_name_found):\n",
    "#                             for _name in list_name_found:\n",
    "#                                 modifyList.append([_name, fake.name(),1])\n",
    "                #lac\n",
    "                    list_name_found = searchNameMatch(text,'lac')\n",
    "                    if(list_name_found):\n",
    "                        for _name in list_name_found:\n",
    "                            # generate fake naem\n",
    "                            zhWordCheck = re.findall(r'[\\u4e00-\\u9fff]+', _name)\n",
    "                            if zhWordCheck:\n",
    "                                fake = Faker(\"zh_tw\")\n",
    "                            else:\n",
    "                                fake = Faker(\"en\")\n",
    "                            modifyList.append([_name, fake.name(),1])\n",
    "#                         list_name_found = searchNameMatch(text,'ltp')\n",
    "#                         print(list_name_found)\n",
    "#                         print('-------------')\n",
    "        if(len(modifyList)>0):\n",
    "            for obj in modifyList:\n",
    "                rewriteName(obj,blockText,_page)"
   ]
  },
  {
   "cell_type": "code",
   "execution_count": 65,
   "id": "4ccb1f58",
   "metadata": {},
   "outputs": [],
   "source": [
    "def process_scannedpdf(_page, i):\n",
    "    try:\n",
    "        # pre process image\n",
    "        img_name = '' + str(i) + '.png'\n",
    "        rotate = int(0)\n",
    "        zoom = 1.5\n",
    "        trans = fitz.Matrix(zoom, zoom).prerotate(rotate)\n",
    "        scale_pixmap = _page.get_pixmap(matrix=trans, alpha=False,colorspace=fitz.csRGB)\n",
    "        img = Image.frombytes(\"RGB\", [scale_pixmap.width, scale_pixmap.height], scale_pixmap.samples)\n",
    "        img = img.convert('L')\n",
    "\n",
    "        cleaned_page_array = cv2.adaptiveThreshold(np.array(img), \n",
    "                                255,\n",
    "                                # cv2.ADAPTIVE_THRESH_MEAN_C,\n",
    "                                cv2.ADAPTIVE_THRESH_GAUSSIAN_C,\n",
    "                                cv2.THRESH_BINARY,\n",
    "                                27,\n",
    "                                20)\n",
    "        new_image = Image.fromarray(cleaned_page_array)\n",
    "        new_image.save(img_name)\n",
    "        \n",
    "        # plt.figure(figsize = (100,100))\n",
    "        # plt.imshow(cleaned_page_array)\n",
    "        \n",
    "        eng_text = pytesseract.image_to_string(new_image,\"eng\")\n",
    "        d = pytesseract.image_to_data(new_image, output_type=pytesseract.Output.DICT)\n",
    "#         d_df = pd.DataFrame.from_dict(d)\n",
    "#         print(eng_text)\n",
    "        eng_text_split = eng_text.split('\\n')\n",
    "        # search for words\n",
    "        modifyList = []\n",
    "        for text in eng_text_split:\n",
    "            list_id_found = searchIDMatch(text)\n",
    "            if(list_id_found):\n",
    "                for idd in list_id_found:\n",
    "                    randomID = id_generator(1,string.ascii_uppercase) + id_generator(6,string.digits) + \"(\"+id_generator(1,string.digits)+\")\"\n",
    "                    modifyList.append([idd, randomID,2])\n",
    "        # write text\n",
    "        if(len(modifyList)>0):\n",
    "#             print(\"?\")\n",
    "            for obj in modifyList:\n",
    "                # calculate text box\n",
    "                n_boxes = len(d['text'])\n",
    "\n",
    "                obj_split = obj[0].split(\" \")\n",
    "                cur_id = 0\n",
    "                cood_list = []\n",
    "                for i in range(n_boxes):\n",
    "        #             print(i)\n",
    "        #             print(d['text'][i]+\"+++++\"+str(d['conf'][i])+\"+++++\"+obj_split[cur_id])\n",
    "        #             print(obj_split[cur_id] in d['text'][i])\n",
    "                    if (obj_split[cur_id] in d['text'][i]  and (d['conf'][i] >20)):\n",
    "\n",
    "                        cood_list.append([d['left'][i], d['top'][i], d['width'][i], d['height'][i],d['conf'][i]])\n",
    "                        cur_id +=1\n",
    "        #                 print(cood_list, i)\n",
    "                        while cur_id < len(obj_split):\n",
    "                            if(i+cur_id < n_boxes):\n",
    "                                if (obj_split[cur_id] in d['text'][i] and d['conf'][i] >20):\n",
    "                                    cood_list.append([d['left'][i+cur_id], d['top'][i+cur_id], d['width'][i+cur_id], d['height'][i+cur_id],d['conf'][i+cur_id]])\n",
    "                                    cur_id +=1\n",
    "        #                             print(cood_list, i)\n",
    "                                else:\n",
    "                                    break\n",
    "                                    cood_list = []\n",
    "                                    cur_id = 0\n",
    "                    if len(cood_list) == len(obj_split):\n",
    "                        break\n",
    "        #         print(cood_list)\n",
    "                x_0 = cood_list[0][0]\n",
    "                y_0 = cood_list[0][1]\n",
    "                x_1 = cood_list[-1][0] + cood_list[-1][2]\n",
    "                y_1 = cood_list[-1][1] + cood_list[-1][3]\n",
    "\n",
    "                textBox_config = {\n",
    "                    'text_loca':[[x_0,y_0,x_1,y_1]],\n",
    "                    \"fontSize\":int((y_1 - y_0)/16*12),\n",
    "                    \"fontType\":None,\n",
    "                    \"fontColor\":None,\n",
    "                    \"fontdir\":None\n",
    "                }\n",
    "        #         print(textBox_config)\n",
    "        #         textBox_config[\"text_loca\"] = \n",
    "        #         textBox_config[] = \n",
    "\n",
    "                rewriteName(obj,None,_page, False, textBox_config)\n",
    "        os.remove(img_name)\n",
    "    except Exception as e:\n",
    "        print(e)"
   ]
  },
  {
   "cell_type": "markdown",
   "id": "f4ab7661",
   "metadata": {},
   "source": [
    "### Search Each Page"
   ]
  },
  {
   "cell_type": "code",
   "execution_count": 26,
   "id": "6b3adbb6",
   "metadata": {},
   "outputs": [],
   "source": [
    "def writeText(fileType='PDF'):\n",
    "    global fake, doc\n",
    "    for i in range(len(doc)):\n",
    "    # for i in range(2):\n",
    "        print(f\">>Current editing page {i} \")\n",
    "        page = doc[i]\n",
    "        if not page.is_wrapped:\n",
    "            page.wrap_contents() \n",
    "        if fileType==\"PDF\":\n",
    "            process_pdf(page,i)\n",
    "        elif fileType==\"IMAGEPDF\":\n",
    "            process_scannedpdf(page,i)\n"
   ]
  },
  {
   "cell_type": "markdown",
   "id": "1a2b401b",
   "metadata": {},
   "source": [
    "## Process Image File"
   ]
  },
  {
   "cell_type": "markdown",
   "id": "d1290ce6",
   "metadata": {},
   "source": [
    "## Main Workflow"
   ]
  },
  {
   "cell_type": "code",
   "execution_count": 52,
   "id": "967e11f7",
   "metadata": {},
   "outputs": [],
   "source": [
    "def workflow(inPath, outPath, inName,outName, typeDoc):\n",
    "    global doc, doc_text\n",
    "    doc = ''\n",
    "    print(\"Step1: reading documents\")\n",
    "    fileread = ''\n",
    "    try:\n",
    "        fileread = readFile(inPath + inName)\n",
    "    except IOError:\n",
    "        print(\"Error: file not found\")\n",
    "    else:\n",
    "        print('text read successfully')\n",
    "    \n",
    "#     print(fileread)\n",
    "    \n",
    "    print(\"**************************************************\")\n",
    "    print(\"Step2: modify documents\")\n",
    "    try:\n",
    "        writeText(typeDoc)\n",
    "    except Exception as e:\n",
    "        print('Error: write text failed')\n",
    "        print(e)\n",
    "    else:\n",
    "        print('text changed successfully')\n",
    "    \n",
    "    print(\"**************************************************\")\n",
    "    print(\"Step3: save documents\")\n",
    "    try:\n",
    "        doc.save(outPath + outName)\n",
    "    except Exception as e:\n",
    "        print('Error: file saved failed')\n",
    "        print(e)\n",
    "    else:\n",
    "        print('file saved successfully')"
   ]
  },
  {
   "cell_type": "markdown",
   "id": "e83376ac",
   "metadata": {},
   "source": [
    "# Starting Point"
   ]
  },
  {
   "cell_type": "code",
   "execution_count": 183,
   "id": "45d2f63f",
   "metadata": {
    "collapsed": true
   },
   "outputs": [
    {
     "name": "stdout",
     "output_type": "stream",
     "text": [
      "Step1: reading documents\n",
      "text changed successfully\n",
      "**************************************************\n",
      "Step2: modify documents\n",
      ">>Current editing page 0 \n",
      "[['丁小姐'], ['PER']]\n",
      "[['9888', ' ', '8888', ' '], ['m', 'w', 'm', 'w']]\n",
      "---> Name Change\n",
      "丁小姐 -> 蔣雅慧\n",
      "Location: Rect(233.42977905273438, 459.8136291503906, 241.40977478027344, 483.80950927734375) | Font Size: 7.980000019073486 | Font Type: PMingLiU | Font Path: c:/windows/fonts/mingliu.ttc\n",
      "Color: 154 -> (0.10196078431372549, 0.10196078431372549, 0.10196078431372549) : GRAY10 | Rotation: (0.0, -1.0) -> 90.0 | Page Rotation: 90\n",
      " \n",
      "[['xyz@abc.com', ' '], ['nw', 'w']]\n",
      "[['01/12/2012', ' '], ['nw', 'w']]\n",
      "[['31', '/', '12', '/', '2012', ' '], ['m', 'w', 'q', 'w', 'TIME', 'w']]\n",
      "[[' ', '0', ' ', '0  0', ' '], ['w', 'm', 'w', 'm', 'w']]\n",
      "[['0 0 0  1  2  3   4', ' '], ['', 'w']]\n",
      "[['甲乙丙公司'], ['ORG']]\n",
      "[['5', ' ', '6', ' ', '7', ' ', '8', ' '], ['m', 'w', 'm', 'w', 'm', 'w', 'm', 'w']]\n",
      "[['李積金'], ['']]\n",
      "[['A123456', ' ', '(', '7', ')', ' '], ['n', 'w', 'w', 'm', 'w', 'w']]\n",
      "---> Name Change\n",
      "李積金 -> 邱淑華\n",
      "Location: Rect(368.4354248046875, 693.80322265625, 376.4154052734375, 717.799072265625) | Font Size: 7.980000019073486 | Font Type: PMingLiU | Font Path: c:/windows/fonts/mingliu.ttc\n",
      "Color: 154 -> (0.10196078431372549, 0.10196078431372549, 0.10196078431372549) : GRAY10 | Rotation: (0.0, -1.0) -> 90.0 | Page Rotation: 90\n",
      " \n",
      "---> Name Change\n",
      "A123456 (7) -> H705506(7)\n",
      "Location: Rect(367.826416015625, 627.7534790039062, 376.7493591308594, 663.8095092773438) | Font Size: 7.980000019073486 | Font Type: PMingLiU | Font Path: c:/windows/fonts/mingliu.ttc\n",
      "Color: 154 -> (0.10196078431372549, 0.10196078431372549, 0.10196078431372549) : GRAY10 | Rotation: (0.0, -1.0) -> 90.0 | Page Rotation: 90\n",
      " \n",
      "[['01/11/2012   30/11/2012', ' '], ['nw', 'w']]\n",
      "[['01/12/2012   31/12/2012', ' '], ['nw', 'w']]\n",
      "[['-          - '], ['']]\n",
      "[['01/12/2012   31/12/2012', ' '], ['nw', 'w']]\n",
      "[['10', ',', '000', ' '], ['m', 'w', 'm', 'w']]\n",
      "[['10', ',', '000', ' '], ['m', 'w', 'm', 'w']]\n",
      "[['500', ' '], ['m', 'w']]\n",
      "[['500', ' '], ['m', 'w']]\n",
      "[['0', ' '], ['m', 'w']]\n",
      "[['500', ' '], ['m', 'w']]\n",
      "[['1', ',', '000', ' '], ['m', 'w', 'm', 'w']]\n",
      "[['500', ' '], ['m', 'w']]\n",
      "[['01/11/2012', ' '], ['nz', 'w']]\n",
      "[['1', ',', '500', ' '], ['m', 'w', 'm', 'w']]\n",
      "[['2', ' '], ['m', 'w']]\n",
      ">>Current editing page 1 \n",
      "[['陳大文'], ['PER']]\n",
      "---> Name Change\n",
      "陳大文 -> 趙彥廷\n",
      "Location: Rect(202.40977478027344, 674.013671875, 210.3897705078125, 698.009521484375) | Font Size: 7.980000019073486 | Font Type: PMingLiU | Font Path: c:/windows/fonts/mingliu.ttc\n",
      "Color: 154 -> (0.10196078431372549, 0.10196078431372549, 0.10196078431372549) : GRAY10 | Rotation: (0.0, -1.0) -> 90.0 | Page Rotation: 90\n",
      " \n",
      "[['何小明'], ['PER']]\n",
      "---> Name Change\n",
      "何小明 -> 張淑娟\n",
      "Location: Rect(214.7707977294922, 674.013671875, 222.75079345703125, 698.009521484375) | Font Size: 7.980000019073486 | Font Type: PMingLiU | Font Path: c:/windows/fonts/mingliu.ttc\n",
      "Color: 154 -> (0.10196078431372549, 0.10196078431372549, 0.10196078431372549) : GRAY10 | Rotation: (0.0, -1.0) -> 90.0 | Page Rotation: 90\n",
      " \n",
      "[['Z987654', '(', '3', ')'], ['n', 'w', 'm', 'w']]\n",
      "---> Name Change\n",
      "Z987654(3) -> W931547(0)\n",
      "Location: Rect(200.7401885986328, 590.8995361328125, 211.72865295410156, 632.1904296875) | Font Size: 7.980000019073486 | Font Type: Arial-BoldMT | Font Path: c:/windows/fonts/arial.ttf\n",
      "Color: 154 -> (0.10196078431372549, 0.10196078431372549, 0.10196078431372549) : GRAY10 | Rotation: (0.0, -1.0) -> 90.0 | Page Rotation: 90\n",
      " \n",
      "[['X112233', '(', '0', ')'], ['n', 'w', 'm', 'w']]\n",
      "---> Name Change\n",
      "X112233(0) -> N052931(5)\n",
      "Location: Rect(213.10121154785156, 590.8890991210938, 224.0896759033203, 632.1904296875) | Font Size: 7.980000019073486 | Font Type: Arial-BoldMT | Font Path: c:/windows/fonts/arial.ttf\n",
      "Color: 154 -> (0.10196078431372549, 0.10196078431372549, 0.10196078431372549) : GRAY10 | Rotation: (0.0, -1.0) -> 90.0 | Page Rotation: 90\n",
      " \n",
      "[['4', ',', '000'], ['m', 'w', 'm']]\n",
      "[['0'], ['m']]\n",
      "[['200'], ['m']]\n",
      "[['0'], ['m']]\n",
      "[['0'], ['m']]\n",
      "[['0'], ['m']]\n",
      "[['200'], ['m']]\n",
      "[['0'], ['m']]\n",
      "[['15/12/2012'], ['n']]\n",
      "[['123456', ' '], ['nz', 'w']]\n",
      "[['\\uf050'], ['n']]\n",
      "[['200'], ['m']]\n",
      "[['1', ',', '700', ' '], ['m', 'w', 'm', 'w']]\n",
      "[['10/01/2013', ' '], ['n', 'w']]\n",
      "[['4', ' '], ['m', 'w']]\n",
      "[['僱主', '授權', '簽署', '公司', '印章'], ['n', 'v', 'v', 'n', 'n']]\n",
      "[['4', ' '], ['m', 'w']]\n",
      "[['3', ' '], ['m', 'w']]\n",
      ">>Current editing page 2 \n",
      "[['1', ' '], ['m', 'w']]\n",
      "[['1', ' '], ['m', 'w']]\n",
      "[['ABC', ' ', 'Company', ' '], ['xc', 'w', 'nz', 'w']]\n",
      "[['Ms. Ding', ' '], ['nz', 'w']]\n",
      "[['9888', ' ', '8888', ' '], ['m', 'w', 'm', 'w']]\n",
      "[['xyz@abc.com', ' '], ['nw', 'w']]\n",
      "[['01/12/2012', ' '], ['nw', 'w']]\n",
      "[['31', '/', '12', '/', '2012', ' '], ['m', 'w', 'q', 'w', 'TIME', 'w']]\n",
      "[[' ', '0', ' ', '0  0', ' '], ['w', 'm', 'w', 'm', 'w']]\n",
      "[['0 0 0  1  2  3   4 5 6 7 8', ' '], ['', 'w']]\n",
      "[['Lee Chek Kam', ' '], ['ORG', 'w']]\n",
      "[['A123456', ' ', '(', '7', ')', ' '], ['n', 'w', 'w', 'm', 'w', 'w']]\n",
      "---> Name Change\n",
      "Lee Chek Kam  -> Kari Kemp\n",
      "Location: Rect(367.4285888671875, 671.91650390625, 377.09515380859375, 722.1895141601562) | Font Size: 7.019999980926514 | Font Type: Arial-BoldMT | Font Path: c:/windows/fonts/arial.ttf\n",
      "Color: 154 -> (0.10196078431372549, 0.10196078431372549, 0.10196078431372549) : GRAY10 | Rotation: (0.0, -1.0) -> 90.0 | Page Rotation: 90\n",
      " \n",
      "---> Name Change\n",
      "A123456 (7) -> M670163(2)\n",
      "Location: Rect(367.826416015625, 627.7534790039062, 376.7493591308594, 663.8095092773438) | Font Size: 7.019999980926514 | Font Type: Arial-BoldMT | Font Path: c:/windows/fonts/arial.ttf\n",
      "Color: 154 -> (0.10196078431372549, 0.10196078431372549, 0.10196078431372549) : GRAY10 | Rotation: (0.0, -1.0) -> 90.0 | Page Rotation: 90\n",
      " \n",
      "[['01/11/2012   30/11/2012', ' '], ['nw', 'w']]\n",
      "[['01/12/2012   31/12/2012', ' '], ['nw', 'w']]\n",
      "[['-          - '], ['']]\n",
      "[['01/12/2012   31/12/2012', ' '], ['nw', 'w']]\n",
      "[['10', ',', '000', ' '], ['m', 'w', 'm', 'w']]\n",
      "[['10', ',', '000', ' '], ['m', 'w', 'm', 'w']]\n",
      "[['500', ' '], ['m', 'w']]\n",
      "[['500', ' '], ['m', 'w']]\n",
      "[['0', ' '], ['m', 'w']]\n",
      "[['500', ' '], ['m', 'w']]\n",
      "[['1', ',', '000', ' '], ['m', 'w', 'm', 'w']]\n",
      "[['500', ' '], ['m', 'w']]\n",
      "[['01/11/2012', ' '], ['nz', 'w']]\n",
      "[['1', ',', '500', ' '], ['m', 'w', 'm', 'w']]\n",
      "[['Part II'], ['nz']]\n",
      "[['2', ' '], ['m', 'w']]\n",
      ">>Current editing page 3 \n",
      "[['Chan', ' ', 'Tai Man', ' '], ['nz', 'w', 'nz', 'w']]\n",
      "---> Name Change\n",
      "Chan Tai Man  -> Samuel Lewis\n",
      "Location: Rect(200.74139404296875, 662.4254150390625, 211.7298583984375, 716.009521484375) | Font Size: 7.980000019073486 | Font Type: Arial-BoldMT | Font Path: c:/windows/fonts/arial.ttf\n",
      "Color: 154 -> (0.10196078431372549, 0.10196078431372549, 0.10196078431372549) : GRAY10 | Rotation: (0.0, -1.0) -> 90.0 | Page Rotation: 90\n",
      " \n",
      "[['Ho', ' ', 'Siu Ming', ' '], ['xc', 'w', 'nz', 'w']]\n",
      "---> Name Change\n",
      "Ho Siu Ming  -> Angela Ferrell\n",
      "Location: Rect(213.03857421875, 667.6323852539062, 224.02703857421875, 716.009521484375) | Font Size: 7.980000019073486 | Font Type: Arial-BoldMT | Font Path: c:/windows/fonts/arial.ttf\n",
      "Color: 154 -> (0.10196078431372549, 0.10196078431372549, 0.10196078431372549) : GRAY10 | Rotation: (0.0, -1.0) -> 90.0 | Page Rotation: 90\n",
      " \n",
      "[['Z987654', '(', '3', ')'], ['n', 'w', 'm', 'w']]\n",
      "---> Name Change\n",
      "Z987654(3) -> U307427(2)\n",
      "Location: Rect(200.74139404296875, 590.8966674804688, 211.7298583984375, 632.1875610351562) | Font Size: 7.980000019073486 | Font Type: Arial-BoldMT | Font Path: c:/windows/fonts/arial.ttf\n",
      "Color: 154 -> (0.10196078431372549, 0.10196078431372549, 0.10196078431372549) : GRAY10 | Rotation: (0.0, -1.0) -> 90.0 | Page Rotation: 90\n",
      " \n",
      "[['X112233', '(', '0', ')'], ['n', 'w', 'm', 'w']]\n",
      "---> Name Change\n",
      "X112233(0) -> D063696(9)\n",
      "Location: Rect(213.1024169921875, 590.88623046875, 224.09088134765625, 632.1875610351562) | Font Size: 7.980000019073486 | Font Type: Arial-BoldMT | Font Path: c:/windows/fonts/arial.ttf\n",
      "Color: 154 -> (0.10196078431372549, 0.10196078431372549, 0.10196078431372549) : GRAY10 | Rotation: (0.0, -1.0) -> 90.0 | Page Rotation: 90\n",
      " \n",
      "[['4', ',', '000'], ['m', 'w', 'm']]\n",
      "[['0'], ['m']]\n",
      "[['200'], ['m']]\n",
      "[['0'], ['m']]\n",
      "[['0'], ['m']]\n",
      "[['0'], ['m']]\n",
      "[['200'], ['m']]\n",
      "[['0'], ['m']]\n",
      "[['15/12/2012'], ['n']]\n",
      "[['123456', ' '], ['nz', 'w']]\n",
      "[['\\uf050'], ['n']]\n",
      "[['200'], ['m']]\n",
      "[['1', ',', '700', ' '], ['m', 'w', 'm', 'w']]\n",
      "[['10/01/2013', ' '], ['n', 'w']]\n",
      "[['Part III'], ['nz']]\n",
      "[['3', ' '], ['m', 'w']]\n",
      "[['For', ' ', 'e'], ['nz', 'w', 'xc']]\n",
      "[['4', ' '], ['m', 'w']]\n",
      "[['4', ' '], ['m', 'w']]\n",
      "[['3', ' '], ['m', 'w']]\n",
      "text changed successfully\n",
      "**************************************************\n",
      "Step3: save documents\n",
      "file saved successfully\n"
     ]
    }
   ],
   "source": [
    "## Initiate Workflow\n",
    "workflow('', '', '1.pdf', \"1_out3.pdf\", \"PDF\")"
   ]
  },
  {
   "cell_type": "code",
   "execution_count": 66,
   "id": "795b6a19",
   "metadata": {
    "scrolled": false
   },
   "outputs": [
    {
     "name": "stdout",
     "output_type": "stream",
     "text": [
      "Step1: reading documents\n",
      "text read successfully\n",
      "**************************************************\n",
      "Step2: modify documents\n",
      ">>Current editing page 0 \n",
      "---> Name Change\n",
      "X112233(0) -> B675893(7)\n",
      "Location: [315, 319, 376, 341] | Font Size: 16 | Font Type: arial | Font Path: c:/windows/fonts/ALGER.TTF\n",
      "Color: 0 -> (0.9411764705882353, 0.9725490196078431, 1.0) : ALICEBLUE | Rotation: (0, 0) -> 0.0 | Page Rotation: 0\n",
      " \n",
      "text changed successfully\n",
      "**************************************************\n",
      "Step3: save documents\n",
      "file saved successfully\n"
     ]
    }
   ],
   "source": [
    "workflow('', '', '6.pdf', \"6_out.pdf\", \"IMAGEPDF\")"
   ]
  },
  {
   "cell_type": "code",
   "execution_count": null,
   "id": "185c1a3d",
   "metadata": {},
   "outputs": [],
   "source": []
  },
  {
   "cell_type": "code",
   "execution_count": null,
   "id": "1fe0d8d9",
   "metadata": {},
   "outputs": [],
   "source": []
  },
  {
   "cell_type": "code",
   "execution_count": null,
   "id": "df919489",
   "metadata": {},
   "outputs": [],
   "source": []
  },
  {
   "cell_type": "code",
   "execution_count": null,
   "id": "b95e28dc",
   "metadata": {},
   "outputs": [],
   "source": []
  },
  {
   "cell_type": "code",
   "execution_count": null,
   "id": "2140082b",
   "metadata": {},
   "outputs": [],
   "source": [
    "#             page.insert_text(\n",
    "#                 point=fitz.Point(text_loca[0][0],text_loca[0][2]),\n",
    "#                 text=fake.name(),\n",
    "#                 fontsize=10,\n",
    "# #                 fontname=fontType,\n",
    "#                 fontfile=,\n",
    "#                 color=(0,0,0),\n",
    "#                 lineheight=12\n",
    "#             )           \n",
    "#             print(text_loca)\n",
    "            # write text\n",
    "#             page.add_redact_annot(\n",
    "#                 quad=text_loca[0],\n",
    "#                 text=fake.name(),\n",
    "#                 fontname=fontType,\n",
    "#                 fontfile=getFontPath(fontType),\n",
    "#                 fontsize=fontSize,\n",
    "#                 text_color=(1,1,1),\n",
    "#                 cross_out=False\n",
    "#             )\n",
    "#             page.apply_redactions()\n",
    "\n",
    "        # insert the text\n",
    "#                 page.insert_text(\n",
    "#                     fitz.Point(text_loca[0][2],text_loca[0][3]),\n",
    "#                     nameExtracted,\n",
    "#                     fontname=fontType,\n",
    "#                     fontsize=fontSize,\n",
    "#                     lineheight=1,\n",
    "#                     color=fontColorRGB, \n",
    "#                     fill=(1,1,1,1), \n",
    "#                     render_mode=0, \n",
    "#                     border_width=1, \n",
    "#                     rotate=fontRotationDegree, \n",
    "#                     morph=None, \n",
    "#                     overlay=True\n",
    "#                 )\n",
    "\n",
    "    # _page.insert_textbox(\n",
    "    #     text_loca[0],\n",
    "    #     newName,\n",
    "    #     fontname=fontType,\n",
    "    #     fontsize=fontSize,\n",
    "    #     lineheight=2,\n",
    "    #     color=fontColorRGB, \n",
    "    #     fill=(1,1,1,1), \n",
    "    #     render_mode=0, \n",
    "    #     border_width=1, \n",
    "    #     # rotate=fontRotationDegree, \n",
    "    #     rotate=0, \n",
    "    #     morph=None, \n",
    "    #     overlay=False\n",
    "    # )"
   ]
  },
  {
   "cell_type": "code",
   "execution_count": 69,
   "id": "6090fd21",
   "metadata": {},
   "outputs": [],
   "source": []
  },
  {
   "cell_type": "code",
   "execution_count": 72,
   "id": "6506fb7d",
   "metadata": {},
   "outputs": [
    {
     "name": "stderr",
     "output_type": "stream",
     "text": [
      "Building prefix dict from the default dictionary ...\n",
      "Loading model from cache G:\\TMPTMP\\jieba.cache\n",
      "Loading model cost 0.674 seconds.\n",
      "Prefix dict has been built successfully.\n"
     ]
    },
    {
     "name": "stdout",
     "output_type": "stream",
     "text": [
      "我 r\n",
      "爱 v\n",
      "北京 ns\n",
      "天安门 ns\n"
     ]
    }
   ],
   "source": []
  }
 ],
 "metadata": {
  "kernelspec": {
   "display_name": "Python 3 (ipykernel)",
   "language": "python",
   "name": "python3"
  },
  "language_info": {
   "codemirror_mode": {
    "name": "ipython",
    "version": 3
   },
   "file_extension": ".py",
   "mimetype": "text/x-python",
   "name": "python",
   "nbconvert_exporter": "python",
   "pygments_lexer": "ipython3",
   "version": "3.7.16"
  }
 },
 "nbformat": 4,
 "nbformat_minor": 5
}
